{
 "cells": [
  {
   "cell_type": "code",
   "execution_count": 1,
   "metadata": {},
   "outputs": [
    {
     "name": "stdout",
     "output_type": "stream",
     "text": [
      "Requirement already satisfied: praw in c:\\users\\lenovo\\appdata\\local\\programs\\python\\python39\\lib\\site-packages (7.7.1)\n",
      "Requirement already satisfied: prawcore<3,>=2.1 in c:\\users\\lenovo\\appdata\\local\\programs\\python\\python39\\lib\\site-packages (from praw) (2.4.0)\n",
      "Requirement already satisfied: update-checker>=0.18 in c:\\users\\lenovo\\appdata\\local\\programs\\python\\python39\\lib\\site-packages (from praw) (0.18.0)\n",
      "Requirement already satisfied: websocket-client>=0.54.0 in c:\\users\\lenovo\\appdata\\local\\programs\\python\\python39\\lib\\site-packages (from praw) (1.6.4)\n",
      "Requirement already satisfied: requests<3.0,>=2.6.0 in c:\\users\\lenovo\\appdata\\local\\programs\\python\\python39\\lib\\site-packages (from prawcore<3,>=2.1->praw) (2.31.0)\n",
      "Requirement already satisfied: charset-normalizer<4,>=2 in c:\\users\\lenovo\\appdata\\local\\programs\\python\\python39\\lib\\site-packages (from requests<3.0,>=2.6.0->prawcore<3,>=2.1->praw) (2.0.4)\n",
      "Requirement already satisfied: idna<4,>=2.5 in c:\\users\\lenovo\\appdata\\local\\programs\\python\\python39\\lib\\site-packages (from requests<3.0,>=2.6.0->prawcore<3,>=2.1->praw) (3.2)\n",
      "Requirement already satisfied: urllib3<3,>=1.21.1 in c:\\users\\lenovo\\appdata\\local\\programs\\python\\python39\\lib\\site-packages (from requests<3.0,>=2.6.0->prawcore<3,>=2.1->praw) (1.26.6)\n",
      "Requirement already satisfied: certifi>=2017.4.17 in c:\\users\\lenovo\\appdata\\local\\programs\\python\\python39\\lib\\site-packages (from requests<3.0,>=2.6.0->prawcore<3,>=2.1->praw) (2021.5.30)\n",
      "Requirement already satisfied: gTTS in c:\\users\\lenovo\\appdata\\local\\programs\\python\\python39\\lib\\site-packages (2.4.0)\n",
      "Requirement already satisfied: requests<3,>=2.27 in c:\\users\\lenovo\\appdata\\local\\programs\\python\\python39\\lib\\site-packages (from gTTS) (2.31.0)\n",
      "Requirement already satisfied: click<8.2,>=7.1 in c:\\users\\lenovo\\appdata\\local\\programs\\python\\python39\\lib\\site-packages (from gTTS) (8.0.1)\n",
      "Requirement already satisfied: colorama in c:\\users\\lenovo\\appdata\\local\\programs\\python\\python39\\lib\\site-packages (from click<8.2,>=7.1->gTTS) (0.4.4)\n",
      "Requirement already satisfied: charset-normalizer<4,>=2 in c:\\users\\lenovo\\appdata\\local\\programs\\python\\python39\\lib\\site-packages (from requests<3,>=2.27->gTTS) (2.0.4)\n",
      "Requirement already satisfied: idna<4,>=2.5 in c:\\users\\lenovo\\appdata\\local\\programs\\python\\python39\\lib\\site-packages (from requests<3,>=2.27->gTTS) (3.2)\n",
      "Requirement already satisfied: urllib3<3,>=1.21.1 in c:\\users\\lenovo\\appdata\\local\\programs\\python\\python39\\lib\\site-packages (from requests<3,>=2.27->gTTS) (1.26.6)\n",
      "Requirement already satisfied: certifi>=2017.4.17 in c:\\users\\lenovo\\appdata\\local\\programs\\python\\python39\\lib\\site-packages (from requests<3,>=2.27->gTTS) (2021.5.30)\n",
      "Requirement already satisfied: pydub in c:\\users\\lenovo\\appdata\\local\\programs\\python\\python39\\lib\\site-packages (0.25.1)\n",
      "Requirement already satisfied: pandas in c:\\users\\lenovo\\appdata\\local\\programs\\python\\python39\\lib\\site-packages (2.1.3)\n",
      "Requirement already satisfied: numpy<2,>=1.22.4 in c:\\users\\lenovo\\appdata\\local\\programs\\python\\python39\\lib\\site-packages (from pandas) (1.26.2)\n",
      "Requirement already satisfied: python-dateutil>=2.8.2 in c:\\users\\lenovo\\appdata\\local\\programs\\python\\python39\\lib\\site-packages (from pandas) (2.8.2)\n",
      "Requirement already satisfied: pytz>=2020.1 in c:\\users\\lenovo\\appdata\\local\\programs\\python\\python39\\lib\\site-packages (from pandas) (2023.3.post1)\n",
      "Requirement already satisfied: tzdata>=2022.1 in c:\\users\\lenovo\\appdata\\local\\programs\\python\\python39\\lib\\site-packages (from pandas) (2023.3)\n",
      "Requirement already satisfied: six>=1.5 in c:\\users\\lenovo\\appdata\\local\\programs\\python\\python39\\lib\\site-packages (from python-dateutil>=2.8.2->pandas) (1.16.0)\n",
      "Requirement already satisfied: Cython in c:\\users\\lenovo\\appdata\\local\\programs\\python\\python39\\lib\\site-packages (3.0.6)\n"
     ]
    }
   ],
   "source": [
    "!pip install praw\n",
    "!pip install gTTS\n",
    "!pip install pydub\n",
    "!pip install pandas"
   ]
  },
  {
   "cell_type": "code",
   "execution_count": 39,
   "metadata": {},
   "outputs": [
    {
     "name": "stdout",
     "output_type": "stream",
     "text": [
      "^C\n"
     ]
    }
   ],
   "source": [
    "!pip install p\n"
   ]
  },
  {
   "cell_type": "code",
   "execution_count": 3,
   "metadata": {},
   "outputs": [],
   "source": [
    "import praw\n",
    "import json\n",
    "# from prawcore.exceptions import ResponseException\n",
    "from pydub import AudioSegment\n",
    "from pydub.playback import play\n",
    "from gtts import gTTS\n",
    "import numpy as np\n",
    "import pandas as pd\n",
    "\n",
    "# reddit = praw.Reddit(client_id=client_id, client_secret=client_secret, user_agent=user_agent)\n",
    "reddit_object = praw.Reddit(\n",
    "    client_id=\"HDdI1LLvE7uDANi3oQ2teQ\",\n",
    "    client_secret=\"oDoTRKQhuCRVHmqgb5RyjyFsyQAYqw\",\n",
    "    user_agent=\"testing by u'/JuggernautBorn5378 \"\n",
    "    # username=\"JuggernautBorn5378\",\n",
    "    # password=\"kanakshat\"\n",
    ")\n"
   ]
  },
  {
   "cell_type": "code",
   "execution_count": 7,
   "metadata": {},
   "outputs": [
    {
     "name": "stdout",
     "output_type": "stream",
     "text": [
      "    is_video  i.media                                              title  \\\n",
      "0       True     True                Badal barsa bijuli sawan ko paani 💦   \n",
      "38      True     True          Ham ladke hai hamare sath esa hi hota hai   \n",
      "18      True     True        Vnit nagpur mai baarish se hostel doob gaya   \n",
      "20      True     True                     Papa player love from Nepal 🇳🇵   \n",
      "19      True     True                                       Naya cancer🤡   \n",
      "11      True     True                              Badal barsa bicholi!!   \n",
      "26      True     True                                        Band Karo 🙏   \n",
      "36      True     True                  Sunai dera mujhe to dera hai🕺🕺🕺🕺🕺   \n",
      "40      True     True                                              Badal   \n",
      "39      True     True                                              Riyal   \n",
      "10      True     True                                Badal Barse Bijuli    \n",
      "13      True     True                                 Badal Barsa bijlui   \n",
      "2       True     True                Badal barsa bijuli sawan ko paani 💦   \n",
      "41      True     True  Title Sandal me Naach Naach ke Pasina Pasina h...   \n",
      "12      True     True                             Badal barsa bicholi🤩😋😁   \n",
      "6       True     True                Luck gaya badal barsa bijuli garne😆   \n",
      "14      True     True                           Badal Barsa Bichuli ❤️‍🔥   \n",
      "4       True     True                                 Badal Barsa Bijuli   \n",
      "3       True     True                        Badal barsa bijuli 😂😂😂😅💃🏻💃🏻   \n",
      "\n",
      "                    reddit_post_url  Number_of_likes  Number_of_comments  \\\n",
      "0   https://v.redd.it/j2q6gotd7ztb1             1267                  23   \n",
      "38  https://v.redd.it/vnhkfb81gmib1              362                  21   \n",
      "18  https://v.redd.it/xqezub784wpb1              253                  74   \n",
      "20  https://v.redd.it/oekyteo491db1              241                  22   \n",
      "19  https://v.redd.it/db1iv4ju5ncb1              218                  27   \n",
      "11  https://v.redd.it/q7jgcw9q79db1              170                   1   \n",
      "26  https://v.redd.it/g0un51slribb1              166                   5   \n",
      "36  https://v.redd.it/0r6v0exl8ufb1              136                  29   \n",
      "40  https://v.redd.it/ige2pbppf2eb1              106                   9   \n",
      "39  https://v.redd.it/ched0sh1a2kb1               87                   4   \n",
      "10  https://v.redd.it/z48om0mhmtpb1               71                   5   \n",
      "13  https://v.redd.it/hm23uhrzswbb1               61                   3   \n",
      "2   https://v.redd.it/x3tm5vk77ztb1               61                   3   \n",
      "41  https://v.redd.it/k2ef7lp18skb1               57                   6   \n",
      "12  https://v.redd.it/0htfmxt72rkb1               31                   6   \n",
      "6   https://v.redd.it/50f0sqb4ihqb1               30                   1   \n",
      "14  https://v.redd.it/pkz3s3lo3onb1               11                   0   \n",
      "4   https://v.redd.it/ixsgw02znelb1                4                   0   \n",
      "3   https://v.redd.it/ohcwnf1o9tnb1                1                   0   \n",
      "\n",
      "                                            video_url  \\\n",
      "0   https://v.redd.it/j2q6gotd7ztb1/DASH_480.mp4?s...   \n",
      "38  https://v.redd.it/vnhkfb81gmib1/DASH_720.mp4?s...   \n",
      "18  https://v.redd.it/xqezub784wpb1/DASH_360.mp4?s...   \n",
      "20  https://v.redd.it/oekyteo491db1/DASH_1080.mp4?...   \n",
      "19  https://v.redd.it/db1iv4ju5ncb1/DASH_1080.mp4?...   \n",
      "11  https://v.redd.it/q7jgcw9q79db1/DASH_1080.mp4?...   \n",
      "26  https://v.redd.it/g0un51slribb1/DASH_1080.mp4?...   \n",
      "36  https://v.redd.it/0r6v0exl8ufb1/DASH_1080.mp4?...   \n",
      "40  https://v.redd.it/ige2pbppf2eb1/DASH_1080.mp4?...   \n",
      "39  https://v.redd.it/ched0sh1a2kb1/DASH_1080.mp4?...   \n",
      "10  https://v.redd.it/z48om0mhmtpb1/DASH_720.mp4?s...   \n",
      "13  https://v.redd.it/hm23uhrzswbb1/DASH_1080.mp4?...   \n",
      "2   https://v.redd.it/x3tm5vk77ztb1/DASH_480.mp4?s...   \n",
      "41  https://v.redd.it/k2ef7lp18skb1/DASH_1080.mp4?...   \n",
      "12  https://v.redd.it/0htfmxt72rkb1/DASH_1080.mp4?...   \n",
      "6   https://v.redd.it/50f0sqb4ihqb1/DASH_1080.mp4?...   \n",
      "14  https://v.redd.it/pkz3s3lo3onb1/DASH_480.mp4?s...   \n",
      "4   https://v.redd.it/ixsgw02znelb1/DASH_720.mp4?s...   \n",
      "3   https://v.redd.it/ohcwnf1o9tnb1/DASH_1080.mp4?...   \n",
      "\n",
      "                                            audio_url  \n",
      "0   https://v.redd.it/j2q6gotd7ztb1/DASH_AUDIO_128...  \n",
      "38  https://v.redd.it/vnhkfb81gmib1/DASH_AUDIO_128...  \n",
      "18  https://v.redd.it/xqezub784wpb1/DASH_AUDIO_128...  \n",
      "20  https://v.redd.it/oekyteo491db1/DASH_AUDIO_128...  \n",
      "19  https://v.redd.it/db1iv4ju5ncb1/DASH_AUDIO_128...  \n",
      "11  https://v.redd.it/q7jgcw9q79db1/DASH_AUDIO_128...  \n",
      "26  https://v.redd.it/g0un51slribb1/DASH_AUDIO_128...  \n",
      "36  https://v.redd.it/0r6v0exl8ufb1/DASH_AUDIO_128...  \n",
      "40  https://v.redd.it/ige2pbppf2eb1/DASH_AUDIO_128...  \n",
      "39  https://v.redd.it/ched0sh1a2kb1/DASH_AUDIO_128...  \n",
      "10  https://v.redd.it/z48om0mhmtpb1/DASH_AUDIO_128...  \n",
      "13  https://v.redd.it/hm23uhrzswbb1/DASH_AUDIO_128...  \n",
      "2   https://v.redd.it/x3tm5vk77ztb1/DASH_AUDIO_128...  \n",
      "41  https://v.redd.it/k2ef7lp18skb1/DASH_AUDIO_128...  \n",
      "12  https://v.redd.it/0htfmxt72rkb1/DASH_AUDIO_128...  \n",
      "6   https://v.redd.it/50f0sqb4ihqb1/DASH_AUDIO_128...  \n",
      "14  https://v.redd.it/pkz3s3lo3onb1/DASH_AUDIO_128...  \n",
      "4   https://v.redd.it/ixsgw02znelb1/DASH_AUDIO_128...  \n",
      "3   https://v.redd.it/ohcwnf1o9tnb1/DASH_AUDIO_128...  \n",
      "   is_video  i.media                                title  \\\n",
      "0      True     True  Badal barsa bijuli sawan ko paani 💦   \n",
      "1      True     True  Luck gaya badal barsa bijuli garne😆   \n",
      "2      True     True                   Badal Barsa Bijuli   \n",
      "3      True     True          Badal barsa bijuli 😂😂😂😅💃🏻💃🏻   \n",
      "\n",
      "                   reddit_post_url  Number_of_likes  Number_of_comments  \\\n",
      "0  https://v.redd.it/j2q6gotd7ztb1             1267                  23   \n",
      "1  https://v.redd.it/50f0sqb4ihqb1               30                   1   \n",
      "2  https://v.redd.it/ixsgw02znelb1                4                   0   \n",
      "3  https://v.redd.it/ohcwnf1o9tnb1                1                   0   \n",
      "\n",
      "                                           video_url  \\\n",
      "0  https://v.redd.it/j2q6gotd7ztb1/DASH_480.mp4?s...   \n",
      "1  https://v.redd.it/50f0sqb4ihqb1/DASH_1080.mp4?...   \n",
      "2  https://v.redd.it/ixsgw02znelb1/DASH_720.mp4?s...   \n",
      "3  https://v.redd.it/ohcwnf1o9tnb1/DASH_1080.mp4?...   \n",
      "\n",
      "                                           audio_url  \n",
      "0  https://v.redd.it/j2q6gotd7ztb1/DASH_AUDIO_128...  \n",
      "1  https://v.redd.it/50f0sqb4ihqb1/DASH_AUDIO_128...  \n",
      "2  https://v.redd.it/ixsgw02znelb1/DASH_AUDIO_128...  \n",
      "3  https://v.redd.it/ohcwnf1o9tnb1/DASH_AUDIO_128...  \n",
      "---------- Reddit Posts ['https://v.redd.it/j2q6gotd7ztb1', 'https://v.redd.it/50f0sqb4ihqb1', 'https://v.redd.it/ixsgw02znelb1', 'https://v.redd.it/ohcwnf1o9tnb1']\n",
      "['Badal barsa bijuli sawan ko paani 💦', 'Luck gaya badal barsa bijuli garne😆', 'Badal Barsa Bijuli', 'Badal barsa bijuli 😂😂😂😅💃🏻💃🏻']\n",
      "['https://v.redd.it/j2q6gotd7ztb1/DASH_480.mp4?source=fallback', 'https://v.redd.it/50f0sqb4ihqb1/DASH_1080.mp4?source=fallback', 'https://v.redd.it/ixsgw02znelb1/DASH_720.mp4?source=fallback', 'https://v.redd.it/ohcwnf1o9tnb1/DASH_1080.mp4?source=fallback']\n",
      "['https://v.redd.it/j2q6gotd7ztb1/DASH_AUDIO_128.mp4', 'https://v.redd.it/50f0sqb4ihqb1/DASH_AUDIO_128.mp4', 'https://v.redd.it/ixsgw02znelb1/DASH_AUDIO_128.mp4', 'https://v.redd.it/ohcwnf1o9tnb1/DASH_AUDIO_128.mp4']\n",
      "Video downloaded and saved as final_videos\\video_1.mp4\n",
      "Audio downloaded and saved as final_videos\\audio_1.mp3\n"
     ]
    },
    {
     "name": "stderr",
     "output_type": "stream",
     "text": [
      "t:  42%|████▏     | 180/429 [07:58<00:33,  7.51it/s, now=None]"
     ]
    },
    {
     "name": "stdout",
     "output_type": "stream",
     "text": [
      "Moviepy - Building video final_videos\\final_video_1.mp4.\n",
      "MoviePy - Writing audio in final_video_1TEMP_MPY_wvf_snd.mp4\n"
     ]
    },
    {
     "name": "stderr",
     "output_type": "stream",
     "text": [
      "t:  42%|████▏     | 180/429 [07:58<00:33,  7.51it/s, now=None]"
     ]
    },
    {
     "name": "stdout",
     "output_type": "stream",
     "text": [
      "MoviePy - Done.\n",
      "Moviepy - Writing video final_videos\\final_video_1.mp4\n",
      "\n"
     ]
    },
    {
     "name": "stderr",
     "output_type": "stream",
     "text": [
      "t:  42%|████▏     | 180/429 [08:01<00:33,  7.51it/s, now=None]"
     ]
    },
    {
     "name": "stdout",
     "output_type": "stream",
     "text": [
      "Moviepy - Done !\n",
      "Moviepy - video ready final_videos\\final_video_1.mp4\n",
      "Final video saved as final_videos\\final_video_1.mp4\n",
      "Video downloaded and saved as final_videos\\video_2.mp4\n",
      "Audio downloaded and saved as final_videos\\audio_2.mp3\n"
     ]
    },
    {
     "name": "stderr",
     "output_type": "stream",
     "text": [
      "t:  42%|████▏     | 180/429 [08:16<00:33,  7.51it/s, now=None]"
     ]
    },
    {
     "name": "stdout",
     "output_type": "stream",
     "text": [
      "Moviepy - Building video final_videos\\final_video_2.mp4.\n",
      "MoviePy - Writing audio in final_video_2TEMP_MPY_wvf_snd.mp4\n"
     ]
    },
    {
     "name": "stderr",
     "output_type": "stream",
     "text": [
      "t:  42%|████▏     | 180/429 [08:17<00:33,  7.51it/s, now=None]"
     ]
    },
    {
     "name": "stdout",
     "output_type": "stream",
     "text": [
      "MoviePy - Done.\n",
      "Moviepy - Writing video final_videos\\final_video_2.mp4\n",
      "\n"
     ]
    },
    {
     "name": "stderr",
     "output_type": "stream",
     "text": [
      "t:  42%|████▏     | 180/429 [09:15<00:33,  7.51it/s, now=None]"
     ]
    },
    {
     "name": "stdout",
     "output_type": "stream",
     "text": [
      "Moviepy - Done !\n",
      "Moviepy - video ready final_videos\\final_video_2.mp4\n",
      "Final video saved as final_videos\\final_video_2.mp4\n",
      "Video downloaded and saved as final_videos\\video_3.mp4\n",
      "Audio downloaded and saved as final_videos\\audio_3.mp3\n"
     ]
    },
    {
     "name": "stderr",
     "output_type": "stream",
     "text": [
      "t:  42%|████▏     | 180/429 [09:20<00:33,  7.51it/s, now=None]"
     ]
    },
    {
     "name": "stdout",
     "output_type": "stream",
     "text": [
      "Moviepy - Building video final_videos\\final_video_3.mp4.\n",
      "MoviePy - Writing audio in final_video_3TEMP_MPY_wvf_snd.mp4\n"
     ]
    },
    {
     "name": "stderr",
     "output_type": "stream",
     "text": [
      "t:  42%|████▏     | 180/429 [09:20<00:33,  7.51it/s, now=None]"
     ]
    },
    {
     "name": "stdout",
     "output_type": "stream",
     "text": [
      "MoviePy - Done.\n",
      "Moviepy - Writing video final_videos\\final_video_3.mp4\n",
      "\n"
     ]
    },
    {
     "name": "stderr",
     "output_type": "stream",
     "text": [
      "t:  42%|████▏     | 180/429 [09:32<00:33,  7.51it/s, now=None]"
     ]
    },
    {
     "name": "stdout",
     "output_type": "stream",
     "text": [
      "Moviepy - Done !\n",
      "Moviepy - video ready final_videos\\final_video_3.mp4\n",
      "Final video saved as final_videos\\final_video_3.mp4\n",
      "Video downloaded and saved as final_videos\\video_4.mp4\n",
      "Audio downloaded and saved as final_videos\\audio_4.mp3\n"
     ]
    },
    {
     "name": "stderr",
     "output_type": "stream",
     "text": [
      "t:  42%|████▏     | 180/429 [09:38<00:33,  7.51it/s, now=None]"
     ]
    },
    {
     "name": "stdout",
     "output_type": "stream",
     "text": [
      "Moviepy - Building video final_videos\\final_video_4.mp4.\n",
      "MoviePy - Writing audio in final_video_4TEMP_MPY_wvf_snd.mp4\n"
     ]
    },
    {
     "name": "stderr",
     "output_type": "stream",
     "text": [
      "t:  42%|████▏     | 180/429 [09:39<00:33,  7.51it/s, now=None]"
     ]
    },
    {
     "name": "stdout",
     "output_type": "stream",
     "text": [
      "MoviePy - Done.\n",
      "Moviepy - Writing video final_videos\\final_video_4.mp4\n",
      "\n"
     ]
    },
    {
     "name": "stderr",
     "output_type": "stream",
     "text": [
      "t:  42%|████▏     | 180/429 [10:18<00:33,  7.51it/s, now=None]"
     ]
    },
    {
     "name": "stdout",
     "output_type": "stream",
     "text": [
      "Moviepy - Done !\n",
      "Moviepy - video ready final_videos\\final_video_4.mp4\n",
      "Final video saved as final_videos\\final_video_4.mp4\n"
     ]
    },
    {
     "name": "stderr",
     "output_type": "stream",
     "text": [
      "t:  42%|████▏     | 180/429 [10:18<00:33,  7.51it/s, now=None]"
     ]
    },
    {
     "name": "stdout",
     "output_type": "stream",
     "text": [
      "Moviepy - Building video final_videos/final_output_video.mp4.\n",
      "MoviePy - Writing audio in final_output_videoTEMP_MPY_wvf_snd.mp4\n"
     ]
    },
    {
     "name": "stderr",
     "output_type": "stream",
     "text": [
      "t:  42%|████▏     | 180/429 [10:18<00:33,  7.51it/s, now=None]"
     ]
    },
    {
     "name": "stdout",
     "output_type": "stream",
     "text": [
      "MoviePy - Done.\n",
      "Moviepy - Writing video final_videos/final_output_video.mp4\n",
      "\n"
     ]
    },
    {
     "name": "stderr",
     "output_type": "stream",
     "text": [
      "t:  42%|████▏     | 180/429 [10:21<00:33,  7.51it/s, now=None]"
     ]
    },
    {
     "name": "stdout",
     "output_type": "stream",
     "text": [
      "Moviepy - Done !\n",
      "Moviepy - video ready final_videos/final_output_video.mp4\n",
      "---------------------------done-----------------------------------------------------\n"
     ]
    }
   ],
   "source": [
    "search = str(input(\"What you want to search....\"))\n",
    "# typ = input(\"Enter what type of content you want to extract hot, top, new, controversial, giled....\")\n",
    "number_of_post = int(input(\"How many post you want....\"))\n",
    "search_hot = reddit_object.subreddit('all').search(search, sort='relevance', time_filter='all', limit=10000)\n",
    "# search = reddit_object.subreddit(f'{search}')\n",
    "# search_hot = search.top(limit = 100)\n",
    "result_title_posts = []\n",
    "result_url_posts = []\n",
    "result_title = []\n",
    "result_url = []\n",
    "video_url = []\n",
    "audio_url = []\n",
    "posts = []\n",
    "for i in search_hot:\n",
    "    temp = dict()\n",
    "    # if len(set(result_title)) == number_of_post:\n",
    "    #     break\n",
    "    temp['is_video'] = i.is_video\n",
    "    temp['i.media'] = True if i.media and 'reddit_video' in i.media else False\n",
    "    temp['title'] = i.title\n",
    "    temp['reddit_post_url'] = i.url\n",
    "    temp['Number_of_likes'] = i.score\n",
    "    temp['Number_of_comments'] = i.num_comments\n",
    "    temp['video_url'] = i.media['reddit_video']['fallback_url'] if i.media and 'reddit_video' in i.media else \"None\"\n",
    "    temp['audio_url'] = i.media['reddit_video']['fallback_url'].split(\"DASH_\")[0] + \"DASH_AUDIO_128.mp4\" if i.media and 'reddit_video' in i.media else \"None\"\n",
    "    posts.append(temp)\n",
    "data = pd.DataFrame(posts)\n",
    "data = data[data['is_video']==True]\n",
    "data['Number_of_likes'] = data['Number_of_likes'].astype(int)\n",
    "data = data.sort_values(by = ['Number_of_likes'], ascending=False)\n",
    "    # if i.is_video ==True:\n",
    "    #     if i.media and 'reddit_video' in i.media:\n",
    "    #         # print(dir(i))\n",
    "\n",
    "    #         video = i.media['reddit_video']['fallback_url']\n",
    "    #         video_url.append(video)\n",
    "    #         audio_url.append(video.split(\"DASH_\")[0] + \"DASH_AUDIO_128.mp4\")\n",
    "    #     result_title.append(i.title)\n",
    "    #     result_url.append(i.url)\n",
    "    # if i.is_video ==False:\n",
    "    #     result_title_posts.append(i.title)\n",
    "    #     result_url_posts.append(i.url)\n",
    "\n",
    "print(data)\n",
    "data = data[(data['video_url']!= 'None') & (data['title'].str.contains(f'{search}', case=False))]\n",
    "\n",
    "\n",
    "data = data.drop_duplicates(subset = 'title').reset_index(drop=True)\n",
    "data = data[:10]\n",
    "print(data)\n",
    "\n",
    "if data.shape[0]>0:\n",
    "    text = f\"Hello Guys,here are the top {search} Videos for you \"\n",
    "\n",
    "    tts = gTTS(text)\n",
    "    tts.save(f\"output.mp3\")\n",
    "    audio = AudioSegment.from_mp3(\"output.mp3\")\n",
    "    # play(audio)\n",
    "    title = data['title'].unique().tolist()\n",
    "    result_url = data['reddit_post_url'].unique().tolist()\n",
    "    video_url = data['video_url'].unique().tolist()\n",
    "    audio_url = data['audio_url'].unique().tolist()\n",
    "    print(\"-\"*10, \"Reddit Posts\", result_url)\n",
    "    print(title)\n",
    "    print(video_url)\n",
    "    print(audio_url)\n",
    "\n",
    "    import os\n",
    "    import requests\n",
    "    from moviepy.editor import VideoFileClip, AudioFileClip, concatenate_videoclips\n",
    "\n",
    "    def download_and_merge_videos(video_urls, audio_urls, output_folder):\n",
    "        # Create the output folder if it doesn't exist\n",
    "        os.makedirs(output_folder, exist_ok=True)\n",
    "\n",
    "        # Loop through the provided video and audio URLs\n",
    "        for i, (video_url, audio_url) in enumerate(zip(video_urls, audio_urls), start=1):\n",
    "            # Download video content\n",
    "            video_response = requests.get(video_url)\n",
    "            video_filename = os.path.join(output_folder, f\"video_{i}.mp4\")\n",
    "\n",
    "            if video_response.status_code == 200:\n",
    "                with open(video_filename, 'wb') as video_file:\n",
    "                    video_file.write(video_response.content)\n",
    "                print(f\"Video downloaded and saved as {video_filename}\")\n",
    "            else:\n",
    "                print(f\"Failed to download video from {video_url}. Status code: {video_response.status_code}\")\n",
    "                continue\n",
    "\n",
    "            # Download audio content\n",
    "            audio_response = requests.get(audio_url)\n",
    "            audio_filename = os.path.join(output_folder, f\"audio_{i}.mp3\")\n",
    "\n",
    "            if audio_response.status_code == 200:\n",
    "                with open(audio_filename, 'wb') as audio_file:\n",
    "                    audio_file.write(audio_response.content)\n",
    "                print(f\"Audio downloaded and saved as {audio_filename}\")\n",
    "            else:\n",
    "                print(f\"Failed to download audio from {audio_url}. Status code: {audio_response.status_code}\")\n",
    "                continue\n",
    "\n",
    "            # Merge video and audio\n",
    "            video_clip = VideoFileClip(video_filename)\n",
    "            audio_clip = AudioFileClip(audio_filename)\n",
    "            video_clip = video_clip.set_audio(audio_clip)\n",
    "\n",
    "            # Write the final video file\n",
    "            final_output_filename = os.path.join(output_folder, f\"final_video_{i}.mp4\")\n",
    "            try:\n",
    "                video_clip.write_videofile(final_output_filename, codec='libx264', audio_codec='aac')\n",
    "                print(f\"Final video saved as {final_output_filename}\")\n",
    "            except Exception as e:\n",
    "                print(f\"Error writing final video file: {e}\")\n",
    "\n",
    "            # Optionally, you can delete the individual video and audio files if needed\n",
    "            # os.remove(video_filename)\n",
    "            # os.remove(audio_filename)\n",
    "\n",
    "    # Example usage\n",
    "    video_urls = video_url\n",
    "    audio_urls = audio_url\n",
    "    output_folder = \"final_videos\"\n",
    "    download_and_merge_videos(video_urls, audio_urls, output_folder)\n",
    "\n",
    "\n",
    "\n",
    "    def merge_audio_and_video(audio_path, video_path, output_path):\n",
    "        # Load the audio and video clips\n",
    "        audio_clip = AudioFileClip(audio_path)\n",
    "        video_clip = VideoFileClip(video_path)\n",
    "\n",
    "        # Set the audio of the video to the loaded audio clip\n",
    "        video_clip = video_clip.subclip(0, audio_clip.duration)\n",
    "        video_clip = video_clip.set_audio(audio_clip)\n",
    "        # Write the merged video to the output file\n",
    "        video_clip.write_videofile(output_path, codec='libx264', audio_codec='aac', fps=24)\n",
    "\n",
    "\n",
    "    audio_file_path = 'output_audio.mp3'  # Replace with the path to your audio file\n",
    "    video_file_path = 'final_videos/video_1.mp4'  # Replace with the path to your video file\n",
    "    output_file_path = 'final_videos/final_output_video.mp4'  # Replace with the desired output path\n",
    "\n",
    "    merge_audio_and_video(audio_file_path, video_file_path, output_file_path)\n",
    "else:\n",
    "    print(\"No Data Found\")\n",
    "\n",
    "print(\"---------------------------done-----------------------------------------------------\")"
   ]
  },
  {
   "cell_type": "code",
   "execution_count": null,
   "metadata": {},
   "outputs": [],
   "source": []
  },
  {
   "cell_type": "code",
   "execution_count": null,
   "metadata": {},
   "outputs": [],
   "source": []
  },
  {
   "cell_type": "code",
   "execution_count": null,
   "metadata": {},
   "outputs": [],
   "source": [
    "video_url = 'https://v.redd.it/qxmuk5rp6t2c1/DASH_720.mp4?source=fallback'\n",
    "audio_url = video_url.split(\"DASH_\")[0] + \"audio\"\n",
    "audio_url_alternatvie = video_url.split(\"DASH_\")[0] + \"DASH_AUDIO_128.mp4\"\n",
    "print(audio_url, audio_url_alternatvie)"
   ]
  },
  {
   "cell_type": "code",
   "execution_count": null,
   "metadata": {},
   "outputs": [],
   "source": [
    "!pip install --upgrade --force-reinstall pandas"
   ]
  },
  {
   "cell_type": "code",
   "execution_count": null,
   "metadata": {},
   "outputs": [],
   "source": []
  },
  {
   "cell_type": "code",
   "execution_count": null,
   "metadata": {},
   "outputs": [],
   "source": [
    "from moviepy.editor import TextClip, CompositeVideoClip\n",
    "\n",
    "# Create a text clip\n",
    "text_clip = TextClip(\"\", fontsize=70, color='white', bg_color='black')\n",
    "\n",
    "# Set the duration of the text clip (in seconds)\n",
    "text_clip = text_clip.set_duration(5)\n",
    "\n",
    "# Create a composite video clip\n",
    "video_clip = CompositeVideoClip([text_clip])\n",
    "\n",
    "# Write the video file\n",
    "video_clip.write_videofile('output_video.mp4', codec='libx264', audio_codec='aac', fps=24)"
   ]
  },
  {
   "cell_type": "code",
   "execution_count": null,
   "metadata": {},
   "outputs": [],
   "source": []
  },
  {
   "cell_type": "code",
   "execution_count": null,
   "metadata": {},
   "outputs": [],
   "source": []
  },
  {
   "cell_type": "code",
   "execution_count": 4,
   "metadata": {},
   "outputs": [
    {
     "ename": "error",
     "evalue": "OpenCV(4.8.1) D:\\a\\opencv-python\\opencv-python\\opencv\\modules\\imgproc\\src\\resize.cpp:4062: error: (-215:Assertion failed) !ssize.empty() in function 'cv::resize'\n",
     "output_type": "error",
     "traceback": [
      "\u001b[1;31m---------------------------------------------------------------------------\u001b[0m",
      "\u001b[1;31merror\u001b[0m                                     Traceback (most recent call last)",
      "\u001b[1;32m~\\AppData\\Local\\Temp/ipykernel_9404/2721518576.py\u001b[0m in \u001b[0;36m<module>\u001b[1;34m\u001b[0m\n\u001b[0;32m     10\u001b[0m \u001b[1;33m\u001b[0m\u001b[0m\n\u001b[0;32m     11\u001b[0m \u001b[1;31m# Resize the AI-powered man image to fit the canvas\u001b[0m\u001b[1;33m\u001b[0m\u001b[1;33m\u001b[0m\u001b[1;33m\u001b[0m\u001b[0m\n\u001b[1;32m---> 12\u001b[1;33m \u001b[0mresized_ai_man_image\u001b[0m \u001b[1;33m=\u001b[0m \u001b[0mcv2\u001b[0m\u001b[1;33m.\u001b[0m\u001b[0mresize\u001b[0m\u001b[1;33m(\u001b[0m\u001b[0mai_man_image\u001b[0m\u001b[1;33m,\u001b[0m \u001b[1;33m(\u001b[0m\u001b[1;36m200\u001b[0m\u001b[1;33m,\u001b[0m \u001b[1;36m200\u001b[0m\u001b[1;33m)\u001b[0m\u001b[1;33m)\u001b[0m\u001b[1;33m\u001b[0m\u001b[1;33m\u001b[0m\u001b[0m\n\u001b[0m\u001b[0;32m     13\u001b[0m \u001b[1;33m\u001b[0m\u001b[0m\n\u001b[0;32m     14\u001b[0m \u001b[1;31m# Add the AI-powered man image to the canvas\u001b[0m\u001b[1;33m\u001b[0m\u001b[1;33m\u001b[0m\u001b[1;33m\u001b[0m\u001b[0m\n",
      "\u001b[1;31merror\u001b[0m: OpenCV(4.8.1) D:\\a\\opencv-python\\opencv-python\\opencv\\modules\\imgproc\\src\\resize.cpp:4062: error: (-215:Assertion failed) !ssize.empty() in function 'cv::resize'\n"
     ]
    }
   ],
   "source": [
    "import numpy as np\n",
    "import cv2\n",
    "from moviepy.editor import VideoFileClip, CompositeVideoClip\n",
    "\n",
    "# Create a blank video canvas\n",
    "canvas = np.zeros((480, 640, 3), dtype=np.uint8)\n",
    "\n",
    "# Load the AI-powered man image\n",
    "ai_man_image = cv2.imread('ai_man.jpeg')\n",
    "\n",
    "# Resize the AI-powered man image to fit the canvas\n",
    "resized_ai_man_image = cv2.resize(ai_man_image, (200, 200))\n",
    "\n",
    "# Add the AI-powered man image to the canvas\n",
    "canvas[100:300, 220:420] = resized_ai_man_image\n",
    "\n",
    "# Create a text overlay\n",
    "text = \"This is some text.\"\n",
    "font = cv2.FONT_HERSHEY_SIMPLEX\n",
    "text_size = cv2.getTextSize(text, font, 1, 2)[0]\n",
    "text_x = (canvas.shape[1] - text_size[0]) // 2\n",
    "text_y = canvas.shape[0] - 50\n",
    "\n",
    "cv2.putText(canvas, text, (text_x, text_y), font, 1, (255, 255, 255), 2)\n",
    "\n",
    "# Convert the canvas to a VideoFileClip object\n",
    "cv2.imwrite('canvas.png', canvas)\n",
    "canvas_video = VideoFileClip('canvas.png')\n",
    "\n",
    "# canvas_video = VideoFileClip(canvas)\n",
    "\n",
    "# Create a composite video clip with the canvas video and a background video\n",
    "background_video = VideoFileClip('background.mp4')\n",
    "composite_video = CompositeVideoClip([canvas_video, background_video.set_opacity(0.5)])\n",
    "\n",
    "# Export the composite video\n",
    "composite_video.write_videofile('output.mp4')\n"
   ]
  },
  {
   "cell_type": "code",
   "execution_count": 79,
   "metadata": {},
   "outputs": [
    {
     "name": "stderr",
     "output_type": "stream",
     "text": [
      "                                                                   \n",
      "\n",
      "\u001b[A\u001b[A                                                  \n",
      "chunk:   1%|          | 1/116 [03:33<6:48:25, 213.09s/it, now=None]\n",
      "                                                                   \n",
      "\n",
      "\u001b[A\u001b[A                                                            \n",
      "chunk:   1%|          | 1/116 [03:33<6:48:26, 213.10s/it, now=None]\n",
      "\u001b[A"
     ]
    },
    {
     "name": "stdout",
     "output_type": "stream",
     "text": [
      "Moviepy - Building video final_video.mp4.\n",
      "MoviePy - Writing audio in final_videoTEMP_MPY_wvf_snd.mp4\n"
     ]
    },
    {
     "name": "stderr",
     "output_type": "stream",
     "text": [
      "\n",
      "\n",
      "\u001b[A\u001b[A\n",
      "\n",
      "\u001b[A\u001b[A"
     ]
    },
    {
     "name": "stdout",
     "output_type": "stream",
     "text": [
      "Error writing video file: index -100001 is out of bounds for axis 0 with size 0\n"
     ]
    }
   ],
   "source": []
  },
  {
   "cell_type": "code",
   "execution_count": 100,
   "metadata": {},
   "outputs": [
    {
     "name": "stdout",
     "output_type": "stream",
     "text": [
      "Video downloaded and saved as merged_videos\\video_1.mp4\n",
      "Audio downloaded and saved as merged_videos\\audio_1.mp3\n"
     ]
    },
    {
     "name": "stderr",
     "output_type": "stream",
     "text": [
      "                                                                   \n",
      "\n",
      "chunk:   1%|          | 1/116 [1:22:27<158:02:56, 4947.63s/it, now=None]\n",
      "                                                                        \n",
      "\n",
      "chunk:   1%|          | 1/116 [1:22:27<158:02:58, 4947.64s/it, now=None]\n",
      "\u001b[A"
     ]
    },
    {
     "name": "stdout",
     "output_type": "stream",
     "text": [
      "Moviepy - Building video merged_videos\\final_video_1.mp4.\n",
      "MoviePy - Writing audio in final_video_1TEMP_MPY_wvf_snd.mp4\n"
     ]
    },
    {
     "name": "stderr",
     "output_type": "stream",
     "text": [
      "                                                                        \n",
      "\n",
      "chunk:   1%|          | 1/116 [1:22:28<158:05:01, 4948.71s/it, now=None]\n",
      "                                                                        \n",
      "\n",
      "chunk:   1%|          | 1/116 [1:22:28<158:05:03, 4948.72s/it, now=None]\n",
      "\u001b[A"
     ]
    },
    {
     "name": "stdout",
     "output_type": "stream",
     "text": [
      "MoviePy - Done.\n",
      "Moviepy - Writing video merged_videos\\final_video_1.mp4\n",
      "\n"
     ]
    },
    {
     "name": "stderr",
     "output_type": "stream",
     "text": [
      "                                                                        \n",
      "\n",
      "chunk:   1%|          | 1/116 [1:23:38<160:19:04, 5018.65s/it, now=None]\n",
      "                                                                        \n",
      "\n",
      "chunk:   1%|          | 1/116 [1:23:38<160:19:05, 5018.66s/it, now=None]\n",
      "\u001b[A"
     ]
    },
    {
     "name": "stdout",
     "output_type": "stream",
     "text": [
      "Moviepy - Done !\n",
      "Moviepy - video ready merged_videos\\final_video_1.mp4\n",
      "Final video saved as merged_videos\\final_video_1.mp4\n",
      "Video downloaded and saved as merged_videos\\video_2.mp4\n",
      "Audio downloaded and saved as merged_videos\\audio_2.mp3\n"
     ]
    },
    {
     "name": "stderr",
     "output_type": "stream",
     "text": [
      "                                                                        \n",
      "\n",
      "chunk:   1%|          | 1/116 [1:23:40<160:22:47, 5020.58s/it, now=None]\n",
      "                                                                        \n",
      "\n",
      "chunk:   1%|          | 1/116 [1:23:40<160:22:47, 5020.59s/it, now=None]\n",
      "\u001b[A"
     ]
    },
    {
     "name": "stdout",
     "output_type": "stream",
     "text": [
      "Moviepy - Building video merged_videos\\final_video_2.mp4.\n",
      "MoviePy - Writing audio in final_video_2TEMP_MPY_wvf_snd.mp4\n"
     ]
    },
    {
     "name": "stderr",
     "output_type": "stream",
     "text": [
      "                                                                        \n",
      "\n",
      "chunk:   1%|          | 1/116 [1:23:40<160:23:24, 5020.91s/it, now=None]\n",
      "                                                                        \n",
      "\n",
      "chunk:   1%|          | 1/116 [1:23:40<160:23:25, 5020.92s/it, now=None]\n",
      "\u001b[A"
     ]
    },
    {
     "name": "stdout",
     "output_type": "stream",
     "text": [
      "MoviePy - Done.\n",
      "Moviepy - Writing video merged_videos\\final_video_2.mp4\n",
      "\n"
     ]
    },
    {
     "name": "stderr",
     "output_type": "stream",
     "text": [
      "                                                                        \n",
      "\n",
      "chunk:   1%|          | 1/116 [1:23:44<160:31:11, 5024.97s/it, now=None]\n",
      "                                                                        \n",
      "\n",
      "chunk:   1%|          | 1/116 [1:23:44<160:31:12, 5024.98s/it, now=None]\n",
      "\u001b[A"
     ]
    },
    {
     "name": "stdout",
     "output_type": "stream",
     "text": [
      "Moviepy - Done !\n",
      "Moviepy - video ready merged_videos\\final_video_2.mp4\n",
      "Final video saved as merged_videos\\final_video_2.mp4\n",
      "Video downloaded and saved as merged_videos\\video_3.mp4\n",
      "Audio downloaded and saved as merged_videos\\audio_3.mp3\n"
     ]
    },
    {
     "name": "stderr",
     "output_type": "stream",
     "text": [
      "                                                                        \n",
      "\n",
      "chunk:   1%|          | 1/116 [1:25:03<163:00:58, 5103.12s/it, now=None]\n",
      "                                                                        \n",
      "\n",
      "chunk:   1%|          | 1/116 [1:25:03<163:00:59, 5103.12s/it, now=None]\n",
      "\u001b[A"
     ]
    },
    {
     "name": "stdout",
     "output_type": "stream",
     "text": [
      "Moviepy - Building video merged_videos\\final_video_3.mp4.\n",
      "MoviePy - Writing audio in final_video_3TEMP_MPY_wvf_snd.mp4\n"
     ]
    },
    {
     "name": "stderr",
     "output_type": "stream",
     "text": [
      "                                                                        \n",
      "\n",
      "chunk:   1%|          | 1/116 [1:25:03<163:02:06, 5103.71s/it, now=None]\n",
      "                                                                        \n",
      "\n",
      "chunk:   1%|          | 1/116 [1:25:03<163:02:07, 5103.72s/it, now=None]\n",
      "\u001b[A"
     ]
    },
    {
     "name": "stdout",
     "output_type": "stream",
     "text": [
      "MoviePy - Done.\n",
      "Moviepy - Writing video merged_videos\\final_video_3.mp4\n",
      "\n"
     ]
    },
    {
     "name": "stderr",
     "output_type": "stream",
     "text": [
      "                                                                        \n",
      "\n",
      "chunk:   1%|          | 1/116 [1:25:29<163:51:47, 5129.63s/it, now=None]\n",
      "                                                                        \n",
      "\n",
      "chunk:   1%|          | 1/116 [1:25:29<163:51:48, 5129.64s/it, now=None]\n",
      "\u001b[A"
     ]
    },
    {
     "name": "stdout",
     "output_type": "stream",
     "text": [
      "Moviepy - Done !\n",
      "Moviepy - video ready merged_videos\\final_video_3.mp4\n",
      "Final video saved as merged_videos\\final_video_3.mp4\n",
      "Video downloaded and saved as merged_videos\\video_4.mp4\n",
      "Audio downloaded and saved as merged_videos\\audio_4.mp3\n"
     ]
    },
    {
     "name": "stderr",
     "output_type": "stream",
     "text": [
      "                                                                        \n",
      "\n",
      "chunk:   1%|          | 1/116 [1:25:33<163:59:38, 5133.73s/it, now=None]\n",
      "                                                                        \n",
      "\n",
      "chunk:   1%|          | 1/116 [1:25:33<163:59:39, 5133.74s/it, now=None]\n",
      "\u001b[A"
     ]
    },
    {
     "name": "stdout",
     "output_type": "stream",
     "text": [
      "Moviepy - Building video merged_videos\\final_video_4.mp4.\n",
      "MoviePy - Writing audio in final_video_4TEMP_MPY_wvf_snd.mp4\n"
     ]
    },
    {
     "name": "stderr",
     "output_type": "stream",
     "text": [
      "                                                                        \n",
      "\n",
      "chunk:   1%|          | 1/116 [1:25:34<164:00:25, 5134.14s/it, now=None]\n",
      "                                                                        \n",
      "\n",
      "chunk:   1%|          | 1/116 [1:25:34<164:00:27, 5134.15s/it, now=None]\n",
      "\u001b[A"
     ]
    },
    {
     "name": "stdout",
     "output_type": "stream",
     "text": [
      "MoviePy - Done.\n",
      "Moviepy - Writing video merged_videos\\final_video_4.mp4\n",
      "\n"
     ]
    },
    {
     "name": "stderr",
     "output_type": "stream",
     "text": [
      "                                                                        \n",
      "\n",
      "chunk:   1%|          | 1/116 [1:25:35<164:03:43, 5135.85s/it, now=None]\n",
      "                                                                        \n",
      "\n",
      "chunk:   1%|          | 1/116 [1:25:35<164:03:44, 5135.87s/it, now=None]\n",
      "\u001b[A"
     ]
    },
    {
     "name": "stdout",
     "output_type": "stream",
     "text": [
      "Moviepy - Done !\n",
      "Moviepy - video ready merged_videos\\final_video_4.mp4\n",
      "Final video saved as merged_videos\\final_video_4.mp4\n"
     ]
    }
   ],
   "source": []
  },
  {
   "cell_type": "code",
   "execution_count": null,
   "metadata": {},
   "outputs": [],
   "source": []
  }
 ],
 "metadata": {
  "kernelspec": {
   "display_name": "Python 3 (ipykernel)",
   "language": "python",
   "name": "python3"
  },
  "language_info": {
   "codemirror_mode": {
    "name": "ipython",
    "version": 3
   },
   "file_extension": ".py",
   "mimetype": "text/x-python",
   "name": "python",
   "nbconvert_exporter": "python",
   "pygments_lexer": "ipython3",
   "version": "3.9.6"
  }
 },
 "nbformat": 4,
 "nbformat_minor": 2
}
